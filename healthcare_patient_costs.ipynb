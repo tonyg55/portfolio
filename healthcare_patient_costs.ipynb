{
  "cells": [
    {
      "cell_type": "markdown",
      "source": [
        "![healthcare_icon.PNG](data:image/png;base64,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)\n",
        "# **Forecasting Patient Cost of Care**\n",
        "---\n",
        "\n",
        "Forecasting the cost of care per patient is essential for effective healthcare management. By accurately predicting healthcare costs, providers can allocate resources efficiently, identify high-risk patients, and implement targeted interventions to improve outcomes while minimizing expenses.\n",
        "\n",
        "\n",
        "Through regression modeling techniques, healthcare stakeholders can enhance decision-making processes and optimize resource utilization, ultimately improving the quality and accessibility of care for all patients.\n",
        "\n",
        "This project has been created with production in mind, hence the many functions before the main body of the code at the bottom.\n",
        "\n",
        "The goal of this model is to help our healthcare company accurately predict patient cost. This is based on a real project that was worked on during my tenure at Anthem Blue Cross Blue Shield, with a real sample of the data anonymized and stripped of any personally identifiable information.\n",
        "\n"
      ],
      "metadata": {
        "id": "pi3EliZsCjL8"
      }
    },
    {
      "cell_type": "code",
      "source": [
        "from sklearn.preprocessing import StandardScaler, OneHotEncoder\n",
        "from sklearn.model_selection import train_test_split, GridSearchCV\n",
        "from sklearn.metrics import mean_absolute_error, mean_squared_error, r2_score\n",
        "from sklearn.pipeline import Pipeline\n",
        "from sklearn.compose import ColumnTransformer\n",
        "import xgboost as xgb\n",
        "import matplotlib.pyplot as plt\n",
        "import seaborn as sns\n",
        "import numpy as np\n",
        "import pandas as pd\n",
        "import pickle\n",
        "import warnings\n",
        "warnings.filterwarnings('ignore')"
      ],
      "metadata": {
        "id": "YVc46Fgq_e3M"
      },
      "execution_count": 1,
      "outputs": []
    },
    {
      "cell_type": "code",
      "execution_count": 2,
      "metadata": {
        "id": "CiX2FI4gZtTt"
      },
      "outputs": [],
      "source": [
        "def get_data(path):\n",
        "  data = pd.read_csv(path)\n",
        "  return data\n",
        ""
      ]
    },
    {
      "cell_type": "markdown",
      "source": [
        "We must perform some preprocessing of our data before we can train with it. Because we want to have both categorical and numerical values as features, we'll need to handle them separately and scale/encode them appropriately, while leaving the y target (expenses) alone."
      ],
      "metadata": {
        "id": "IpIfx7s--ApL"
      }
    },
    {
      "cell_type": "code",
      "execution_count": 3,
      "metadata": {
        "id": "LcopvQh3X-kX"
      },
      "outputs": [],
      "source": [
        "def transform_data(data):\n",
        "  numeric_features = ['age', 'bmi', 'children']\n",
        "  categorical_features = ['sex', 'smoker', 'region']\n",
        "\n",
        "  numeric_transformer = Pipeline(steps=[\n",
        "      ('scaler', StandardScaler())\n",
        "  ])\n",
        "\n",
        "  categorical_transformer = Pipeline(steps=[\n",
        "      ('encoder', OneHotEncoder())\n",
        "  ])\n",
        "\n",
        "  # Define separate column transformer for target variable (cost)\n",
        "  target_transformer = Pipeline(steps=[\n",
        "      ('passthrough', 'passthrough')\n",
        "  ])\n",
        "\n",
        "  preprocessor = ColumnTransformer(\n",
        "      transformers=[\n",
        "          ('num', numeric_transformer, numeric_features),\n",
        "          ('cat', categorical_transformer, categorical_features),\n",
        "          ('target', target_transformer, ['expenses'])  # Include target variable\n",
        "      ])\n",
        "\n",
        "  transformed_data = preprocessor.fit_transform(data)\n",
        "\n",
        "  # Retrieve the column names after transformation\n",
        "  numeric_features_scaled = preprocessor.transformers_[0][2]\n",
        "  categorical_features_encoded = preprocessor.named_transformers_['cat']['encoder']\\\n",
        "                                  .get_feature_names_out(categorical_features)\n",
        "\n",
        "  # Concatenate column names\n",
        "  new_column_names = list(numeric_features_scaled) + list(categorical_features_encoded)\n",
        "\n",
        "  transformed_df = pd.DataFrame(transformed_data, columns=new_column_names + [\"expenses\"])\n",
        "  print(transformed_df)\n",
        "  return transformed_df\n"
      ]
    },
    {
      "cell_type": "code",
      "source": [
        "def set_x_y(data):\n",
        "  x = data[['age', 'bmi', 'children', 'sex_female', 'sex_male', 'smoker_no', 'smoker_yes', 'region_northeast',  'region_northwest',  'region_southeast', 'region_southwest']]\n",
        "  y = data['expenses']\n",
        "  return x,y\n"
      ],
      "metadata": {
        "id": "OTHSDMUwHa48"
      },
      "execution_count": 4,
      "outputs": []
    },
    {
      "cell_type": "code",
      "source": [
        "def set_splits(x, y, test_size, random_state):\n",
        "  x_train, x_test, y_train, y_test = train_test_split(x, y, test_size=test_size, random_state=random_state)\n",
        "  return x_train, x_test, y_train, y_test\n"
      ],
      "metadata": {
        "id": "p-wis49MGVts"
      },
      "execution_count": 5,
      "outputs": []
    },
    {
      "cell_type": "code",
      "source": [
        "def get_best_params(x_train, y_train):\n",
        "  xgb_regressor = xgb.XGBRegressor()\n",
        "\n",
        "  param_grid = {\n",
        "    'xgb__n_estimators': [50, 100, 500],\n",
        "    'xgb__max_depth': [8, 9, 10],\n",
        "    'xgb__learning_rate': [0.1, 0.2, 0.3]\n",
        "  }\n",
        "\n",
        "  grid_search = GridSearchCV(xgb_regressor, param_grid, cv=3, scoring='neg_mean_squared_error', verbose=1)\n",
        "\n",
        "  grid_search.fit(x_train, y_train)\n",
        "\n",
        "  best_params = grid_search.best_params_\n",
        "\n",
        "  best_estimator = grid_search.best_estimator_\n",
        "\n",
        "  test_score = best_estimator.score(x_test, y_test)\n",
        "\n",
        "  return best_params, best_estimator, test_score"
      ],
      "metadata": {
        "id": "md8rFgcoJlxr"
      },
      "execution_count": 6,
      "outputs": []
    },
    {
      "cell_type": "code",
      "source": [
        "def train_fit_model(x_train, y_train, learning_rate, max_depth, n_estimators):\n",
        "  model = xgb.XGBRegressor(learning_rate=learning_rate, n_estimators=n_estimators)\n",
        "  model.fit(x_train, y_train)\n",
        "  return model"
      ],
      "metadata": {
        "id": "WrEODQObIcFQ"
      },
      "execution_count": 7,
      "outputs": []
    },
    {
      "cell_type": "code",
      "source": [
        "def create_predictions(model, x_test):\n",
        "  predictions = model.predict(x_test)\n",
        "  return predictions"
      ],
      "metadata": {
        "id": "Z8OtEKtOIyQH"
      },
      "execution_count": 8,
      "outputs": []
    },
    {
      "cell_type": "code",
      "source": [
        "def get_metrics(y_test, predictions):\n",
        "  mae = mean_absolute_error(y_test, predictions)\n",
        "  mse = mean_squared_error(y_test, predictions)\n",
        "  r2 = r2_score(y_test, predictions)\n",
        "\n",
        "  print(f\"Mean Absolute Error Score: {mae}\")\n",
        "  print(f\"Mean Squared Error Score: {mse}\")\n",
        "  print(f\"R-Squared Score: {r2}\")\n",
        "\n",
        "  return mae, mse, r2"
      ],
      "metadata": {
        "id": "1mAJISmOI4hF"
      },
      "execution_count": 9,
      "outputs": []
    },
    {
      "cell_type": "code",
      "source": [
        "def save_model(model):\n",
        "  with open('forecasting_patient_cost_xgbregression_model.pkl', 'wb') as file:\n",
        "    pickle.dump(model, file)\n",
        "\n",
        "    print(\"Model saved successfully.\")"
      ],
      "metadata": {
        "id": "QAGzs_GR_S5-"
      },
      "execution_count": 10,
      "outputs": []
    },
    {
      "cell_type": "code",
      "source": [
        "path_to_data = '/insurance.csv'\n",
        "patient_data = get_data(path_to_data)\n",
        "patient_data.tail()"
      ],
      "metadata": {
        "colab": {
          "base_uri": "https://localhost:8080/",
          "height": 206
        },
        "id": "_4g6BGltDwZM",
        "outputId": "d16ddf01-7120-4260-9dff-d3f5eeadb96b"
      },
      "execution_count": 11,
      "outputs": [
        {
          "output_type": "execute_result",
          "data": {
            "text/plain": [
              "      age     sex   bmi  children smoker     region  expenses\n",
              "1333   50    male  31.0         3     no  northwest  10600.55\n",
              "1334   18  female  31.9         0     no  northeast   2205.98\n",
              "1335   18  female  36.9         0     no  southeast   1629.83\n",
              "1336   21  female  25.8         0     no  southwest   2007.95\n",
              "1337   61  female  29.1         0    yes  northwest  29141.36"
            ],
            "text/html": [
              "\n",
              "  <div id=\"df-f2a91165-d4c8-473d-af85-196c41facf9a\" class=\"colab-df-container\">\n",
              "    <div>\n",
              "<style scoped>\n",
              "    .dataframe tbody tr th:only-of-type {\n",
              "        vertical-align: middle;\n",
              "    }\n",
              "\n",
              "    .dataframe tbody tr th {\n",
              "        vertical-align: top;\n",
              "    }\n",
              "\n",
              "    .dataframe thead th {\n",
              "        text-align: right;\n",
              "    }\n",
              "</style>\n",
              "<table border=\"1\" class=\"dataframe\">\n",
              "  <thead>\n",
              "    <tr style=\"text-align: right;\">\n",
              "      <th></th>\n",
              "      <th>age</th>\n",
              "      <th>sex</th>\n",
              "      <th>bmi</th>\n",
              "      <th>children</th>\n",
              "      <th>smoker</th>\n",
              "      <th>region</th>\n",
              "      <th>expenses</th>\n",
              "    </tr>\n",
              "  </thead>\n",
              "  <tbody>\n",
              "    <tr>\n",
              "      <th>1333</th>\n",
              "      <td>50</td>\n",
              "      <td>male</td>\n",
              "      <td>31.0</td>\n",
              "      <td>3</td>\n",
              "      <td>no</td>\n",
              "      <td>northwest</td>\n",
              "      <td>10600.55</td>\n",
              "    </tr>\n",
              "    <tr>\n",
              "      <th>1334</th>\n",
              "      <td>18</td>\n",
              "      <td>female</td>\n",
              "      <td>31.9</td>\n",
              "      <td>0</td>\n",
              "      <td>no</td>\n",
              "      <td>northeast</td>\n",
              "      <td>2205.98</td>\n",
              "    </tr>\n",
              "    <tr>\n",
              "      <th>1335</th>\n",
              "      <td>18</td>\n",
              "      <td>female</td>\n",
              "      <td>36.9</td>\n",
              "      <td>0</td>\n",
              "      <td>no</td>\n",
              "      <td>southeast</td>\n",
              "      <td>1629.83</td>\n",
              "    </tr>\n",
              "    <tr>\n",
              "      <th>1336</th>\n",
              "      <td>21</td>\n",
              "      <td>female</td>\n",
              "      <td>25.8</td>\n",
              "      <td>0</td>\n",
              "      <td>no</td>\n",
              "      <td>southwest</td>\n",
              "      <td>2007.95</td>\n",
              "    </tr>\n",
              "    <tr>\n",
              "      <th>1337</th>\n",
              "      <td>61</td>\n",
              "      <td>female</td>\n",
              "      <td>29.1</td>\n",
              "      <td>0</td>\n",
              "      <td>yes</td>\n",
              "      <td>northwest</td>\n",
              "      <td>29141.36</td>\n",
              "    </tr>\n",
              "  </tbody>\n",
              "</table>\n",
              "</div>\n",
              "    <div class=\"colab-df-buttons\">\n",
              "\n",
              "  <div class=\"colab-df-container\">\n",
              "    <button class=\"colab-df-convert\" onclick=\"convertToInteractive('df-f2a91165-d4c8-473d-af85-196c41facf9a')\"\n",
              "            title=\"Convert this dataframe to an interactive table.\"\n",
              "            style=\"display:none;\">\n",
              "\n",
              "  <svg xmlns=\"http://www.w3.org/2000/svg\" height=\"24px\" viewBox=\"0 -960 960 960\">\n",
              "    <path d=\"M120-120v-720h720v720H120Zm60-500h600v-160H180v160Zm220 220h160v-160H400v160Zm0 220h160v-160H400v160ZM180-400h160v-160H180v160Zm440 0h160v-160H620v160ZM180-180h160v-160H180v160Zm440 0h160v-160H620v160Z\"/>\n",
              "  </svg>\n",
              "    </button>\n",
              "\n",
              "  <style>\n",
              "    .colab-df-container {\n",
              "      display:flex;\n",
              "      gap: 12px;\n",
              "    }\n",
              "\n",
              "    .colab-df-convert {\n",
              "      background-color: #E8F0FE;\n",
              "      border: none;\n",
              "      border-radius: 50%;\n",
              "      cursor: pointer;\n",
              "      display: none;\n",
              "      fill: #1967D2;\n",
              "      height: 32px;\n",
              "      padding: 0 0 0 0;\n",
              "      width: 32px;\n",
              "    }\n",
              "\n",
              "    .colab-df-convert:hover {\n",
              "      background-color: #E2EBFA;\n",
              "      box-shadow: 0px 1px 2px rgba(60, 64, 67, 0.3), 0px 1px 3px 1px rgba(60, 64, 67, 0.15);\n",
              "      fill: #174EA6;\n",
              "    }\n",
              "\n",
              "    .colab-df-buttons div {\n",
              "      margin-bottom: 4px;\n",
              "    }\n",
              "\n",
              "    [theme=dark] .colab-df-convert {\n",
              "      background-color: #3B4455;\n",
              "      fill: #D2E3FC;\n",
              "    }\n",
              "\n",
              "    [theme=dark] .colab-df-convert:hover {\n",
              "      background-color: #434B5C;\n",
              "      box-shadow: 0px 1px 3px 1px rgba(0, 0, 0, 0.15);\n",
              "      filter: drop-shadow(0px 1px 2px rgba(0, 0, 0, 0.3));\n",
              "      fill: #FFFFFF;\n",
              "    }\n",
              "  </style>\n",
              "\n",
              "    <script>\n",
              "      const buttonEl =\n",
              "        document.querySelector('#df-f2a91165-d4c8-473d-af85-196c41facf9a button.colab-df-convert');\n",
              "      buttonEl.style.display =\n",
              "        google.colab.kernel.accessAllowed ? 'block' : 'none';\n",
              "\n",
              "      async function convertToInteractive(key) {\n",
              "        const element = document.querySelector('#df-f2a91165-d4c8-473d-af85-196c41facf9a');\n",
              "        const dataTable =\n",
              "          await google.colab.kernel.invokeFunction('convertToInteractive',\n",
              "                                                    [key], {});\n",
              "        if (!dataTable) return;\n",
              "\n",
              "        const docLinkHtml = 'Like what you see? Visit the ' +\n",
              "          '<a target=\"_blank\" href=https://colab.research.google.com/notebooks/data_table.ipynb>data table notebook</a>'\n",
              "          + ' to learn more about interactive tables.';\n",
              "        element.innerHTML = '';\n",
              "        dataTable['output_type'] = 'display_data';\n",
              "        await google.colab.output.renderOutput(dataTable, element);\n",
              "        const docLink = document.createElement('div');\n",
              "        docLink.innerHTML = docLinkHtml;\n",
              "        element.appendChild(docLink);\n",
              "      }\n",
              "    </script>\n",
              "  </div>\n",
              "\n",
              "\n",
              "<div id=\"df-7b5f744c-a26b-4a27-b5bb-5c72beed8ffd\">\n",
              "  <button class=\"colab-df-quickchart\" onclick=\"quickchart('df-7b5f744c-a26b-4a27-b5bb-5c72beed8ffd')\"\n",
              "            title=\"Suggest charts\"\n",
              "            style=\"display:none;\">\n",
              "\n",
              "<svg xmlns=\"http://www.w3.org/2000/svg\" height=\"24px\"viewBox=\"0 0 24 24\"\n",
              "     width=\"24px\">\n",
              "    <g>\n",
              "        <path d=\"M19 3H5c-1.1 0-2 .9-2 2v14c0 1.1.9 2 2 2h14c1.1 0 2-.9 2-2V5c0-1.1-.9-2-2-2zM9 17H7v-7h2v7zm4 0h-2V7h2v10zm4 0h-2v-4h2v4z\"/>\n",
              "    </g>\n",
              "</svg>\n",
              "  </button>\n",
              "\n",
              "<style>\n",
              "  .colab-df-quickchart {\n",
              "      --bg-color: #E8F0FE;\n",
              "      --fill-color: #1967D2;\n",
              "      --hover-bg-color: #E2EBFA;\n",
              "      --hover-fill-color: #174EA6;\n",
              "      --disabled-fill-color: #AAA;\n",
              "      --disabled-bg-color: #DDD;\n",
              "  }\n",
              "\n",
              "  [theme=dark] .colab-df-quickchart {\n",
              "      --bg-color: #3B4455;\n",
              "      --fill-color: #D2E3FC;\n",
              "      --hover-bg-color: #434B5C;\n",
              "      --hover-fill-color: #FFFFFF;\n",
              "      --disabled-bg-color: #3B4455;\n",
              "      --disabled-fill-color: #666;\n",
              "  }\n",
              "\n",
              "  .colab-df-quickchart {\n",
              "    background-color: var(--bg-color);\n",
              "    border: none;\n",
              "    border-radius: 50%;\n",
              "    cursor: pointer;\n",
              "    display: none;\n",
              "    fill: var(--fill-color);\n",
              "    height: 32px;\n",
              "    padding: 0;\n",
              "    width: 32px;\n",
              "  }\n",
              "\n",
              "  .colab-df-quickchart:hover {\n",
              "    background-color: var(--hover-bg-color);\n",
              "    box-shadow: 0 1px 2px rgba(60, 64, 67, 0.3), 0 1px 3px 1px rgba(60, 64, 67, 0.15);\n",
              "    fill: var(--button-hover-fill-color);\n",
              "  }\n",
              "\n",
              "  .colab-df-quickchart-complete:disabled,\n",
              "  .colab-df-quickchart-complete:disabled:hover {\n",
              "    background-color: var(--disabled-bg-color);\n",
              "    fill: var(--disabled-fill-color);\n",
              "    box-shadow: none;\n",
              "  }\n",
              "\n",
              "  .colab-df-spinner {\n",
              "    border: 2px solid var(--fill-color);\n",
              "    border-color: transparent;\n",
              "    border-bottom-color: var(--fill-color);\n",
              "    animation:\n",
              "      spin 1s steps(1) infinite;\n",
              "  }\n",
              "\n",
              "  @keyframes spin {\n",
              "    0% {\n",
              "      border-color: transparent;\n",
              "      border-bottom-color: var(--fill-color);\n",
              "      border-left-color: var(--fill-color);\n",
              "    }\n",
              "    20% {\n",
              "      border-color: transparent;\n",
              "      border-left-color: var(--fill-color);\n",
              "      border-top-color: var(--fill-color);\n",
              "    }\n",
              "    30% {\n",
              "      border-color: transparent;\n",
              "      border-left-color: var(--fill-color);\n",
              "      border-top-color: var(--fill-color);\n",
              "      border-right-color: var(--fill-color);\n",
              "    }\n",
              "    40% {\n",
              "      border-color: transparent;\n",
              "      border-right-color: var(--fill-color);\n",
              "      border-top-color: var(--fill-color);\n",
              "    }\n",
              "    60% {\n",
              "      border-color: transparent;\n",
              "      border-right-color: var(--fill-color);\n",
              "    }\n",
              "    80% {\n",
              "      border-color: transparent;\n",
              "      border-right-color: var(--fill-color);\n",
              "      border-bottom-color: var(--fill-color);\n",
              "    }\n",
              "    90% {\n",
              "      border-color: transparent;\n",
              "      border-bottom-color: var(--fill-color);\n",
              "    }\n",
              "  }\n",
              "</style>\n",
              "\n",
              "  <script>\n",
              "    async function quickchart(key) {\n",
              "      const quickchartButtonEl =\n",
              "        document.querySelector('#' + key + ' button');\n",
              "      quickchartButtonEl.disabled = true;  // To prevent multiple clicks.\n",
              "      quickchartButtonEl.classList.add('colab-df-spinner');\n",
              "      try {\n",
              "        const charts = await google.colab.kernel.invokeFunction(\n",
              "            'suggestCharts', [key], {});\n",
              "      } catch (error) {\n",
              "        console.error('Error during call to suggestCharts:', error);\n",
              "      }\n",
              "      quickchartButtonEl.classList.remove('colab-df-spinner');\n",
              "      quickchartButtonEl.classList.add('colab-df-quickchart-complete');\n",
              "    }\n",
              "    (() => {\n",
              "      let quickchartButtonEl =\n",
              "        document.querySelector('#df-7b5f744c-a26b-4a27-b5bb-5c72beed8ffd button');\n",
              "      quickchartButtonEl.style.display =\n",
              "        google.colab.kernel.accessAllowed ? 'block' : 'none';\n",
              "    })();\n",
              "  </script>\n",
              "</div>\n",
              "\n",
              "    </div>\n",
              "  </div>\n"
            ],
            "application/vnd.google.colaboratory.intrinsic+json": {
              "type": "dataframe",
              "summary": "{\n  \"name\": \"patient_data\",\n  \"rows\": 5,\n  \"fields\": [\n    {\n      \"column\": \"age\",\n      \"properties\": {\n        \"dtype\": \"number\",\n        \"std\": 20,\n        \"min\": 18,\n        \"max\": 61,\n        \"num_unique_values\": 4,\n        \"samples\": [\n          18,\n          61,\n          50\n        ],\n        \"semantic_type\": \"\",\n        \"description\": \"\"\n      }\n    },\n    {\n      \"column\": \"sex\",\n      \"properties\": {\n        \"dtype\": \"category\",\n        \"num_unique_values\": 2,\n        \"samples\": [\n          \"female\",\n          \"male\"\n        ],\n        \"semantic_type\": \"\",\n        \"description\": \"\"\n      }\n    },\n    {\n      \"column\": \"bmi\",\n      \"properties\": {\n        \"dtype\": \"number\",\n        \"std\": 4.069766578072997,\n        \"min\": 25.8,\n        \"max\": 36.9,\n        \"num_unique_values\": 5,\n        \"samples\": [\n          31.9,\n          29.1\n        ],\n        \"semantic_type\": \"\",\n        \"description\": \"\"\n      }\n    },\n    {\n      \"column\": \"children\",\n      \"properties\": {\n        \"dtype\": \"number\",\n        \"std\": 1,\n        \"min\": 0,\n        \"max\": 3,\n        \"num_unique_values\": 2,\n        \"samples\": [\n          0,\n          3\n        ],\n        \"semantic_type\": \"\",\n        \"description\": \"\"\n      }\n    },\n    {\n      \"column\": \"smoker\",\n      \"properties\": {\n        \"dtype\": \"category\",\n        \"num_unique_values\": 2,\n        \"samples\": [\n          \"yes\",\n          \"no\"\n        ],\n        \"semantic_type\": \"\",\n        \"description\": \"\"\n      }\n    },\n    {\n      \"column\": \"region\",\n      \"properties\": {\n        \"dtype\": \"string\",\n        \"num_unique_values\": 4,\n        \"samples\": [\n          \"northeast\",\n          \"southwest\"\n        ],\n        \"semantic_type\": \"\",\n        \"description\": \"\"\n      }\n    },\n    {\n      \"column\": \"expenses\",\n      \"properties\": {\n        \"dtype\": \"number\",\n        \"std\": 11806.083366998982,\n        \"min\": 1629.83,\n        \"max\": 29141.36,\n        \"num_unique_values\": 5,\n        \"samples\": [\n          2205.98,\n          29141.36\n        ],\n        \"semantic_type\": \"\",\n        \"description\": \"\"\n      }\n    }\n  ]\n}"
            }
          },
          "metadata": {},
          "execution_count": 11
        }
      ]
    },
    {
      "cell_type": "code",
      "source": [
        "transformed_patient_data = transform_data(patient_data)\n",
        "transformed_patient_data.tail()\n",
        "x, y = set_x_y(transformed_patient_data)"
      ],
      "metadata": {
        "colab": {
          "base_uri": "https://localhost:8080/"
        },
        "id": "hVGpgZKXIQ-w",
        "outputId": "03078822-d6c6-46a6-84d8-10d9201e209d"
      },
      "execution_count": 12,
      "outputs": [
        {
          "output_type": "stream",
          "name": "stdout",
          "text": [
            "           age       bmi  children  sex_female  sex_male  smoker_no  \\\n",
            "0    -1.438764 -0.453646 -0.908614         1.0       0.0        0.0   \n",
            "1    -1.509965  0.514186 -0.078767         0.0       1.0        1.0   \n",
            "2    -0.797954  0.382954  1.580926         0.0       1.0        1.0   \n",
            "3    -0.441948 -1.306650 -0.908614         0.0       1.0        1.0   \n",
            "4    -0.513149 -0.289606 -0.908614         0.0       1.0        1.0   \n",
            "...        ...       ...       ...         ...       ...        ...   \n",
            "1333  0.768473  0.054876  1.580926         0.0       1.0        1.0   \n",
            "1334 -1.509965  0.202511 -0.908614         1.0       0.0        1.0   \n",
            "1335 -1.509965  1.022707 -0.908614         1.0       0.0        1.0   \n",
            "1336 -1.296362 -0.798128 -0.908614         1.0       0.0        1.0   \n",
            "1337  1.551686 -0.256799 -0.908614         1.0       0.0        0.0   \n",
            "\n",
            "      smoker_yes  region_northeast  region_northwest  region_southeast  \\\n",
            "0            1.0               0.0               0.0               0.0   \n",
            "1            0.0               0.0               0.0               1.0   \n",
            "2            0.0               0.0               0.0               1.0   \n",
            "3            0.0               0.0               1.0               0.0   \n",
            "4            0.0               0.0               1.0               0.0   \n",
            "...          ...               ...               ...               ...   \n",
            "1333         0.0               0.0               1.0               0.0   \n",
            "1334         0.0               1.0               0.0               0.0   \n",
            "1335         0.0               0.0               0.0               1.0   \n",
            "1336         0.0               0.0               0.0               0.0   \n",
            "1337         1.0               0.0               1.0               0.0   \n",
            "\n",
            "      region_southwest  expenses  \n",
            "0                  1.0  16884.92  \n",
            "1                  0.0   1725.55  \n",
            "2                  0.0   4449.46  \n",
            "3                  0.0  21984.47  \n",
            "4                  0.0   3866.86  \n",
            "...                ...       ...  \n",
            "1333               0.0  10600.55  \n",
            "1334               0.0   2205.98  \n",
            "1335               0.0   1629.83  \n",
            "1336               1.0   2007.95  \n",
            "1337               0.0  29141.36  \n",
            "\n",
            "[1338 rows x 12 columns]\n"
          ]
        }
      ]
    },
    {
      "cell_type": "code",
      "source": [
        "test_size = 0.2\n",
        "random_state = 42\n",
        "x_train, x_test, y_train, y_test = set_splits(x, y, test_size, random_state)\n"
      ],
      "metadata": {
        "id": "wTM7yB7nIWcn"
      },
      "execution_count": 13,
      "outputs": []
    },
    {
      "cell_type": "code",
      "source": [
        "best_params, best_estimator, test_score = get_best_params(x_train, y_train)\n",
        "print(f\"Best parameters: {best_params, best_estimator, test_score}\")"
      ],
      "metadata": {
        "colab": {
          "base_uri": "https://localhost:8080/"
        },
        "id": "Y7QEBcdkLzL3",
        "outputId": "63a4b579-b9a9-4e9f-d2d0-bda7944554b9"
      },
      "execution_count": 14,
      "outputs": [
        {
          "output_type": "stream",
          "name": "stdout",
          "text": [
            "Fitting 3 folds for each of 27 candidates, totalling 81 fits\n",
            "Best parameters: ({'xgb__learning_rate': 0.1, 'xgb__max_depth': 8, 'xgb__n_estimators': 50}, XGBRegressor(base_score=None, booster=None, callbacks=None,\n",
            "             colsample_bylevel=None, colsample_bynode=None,\n",
            "             colsample_bytree=None, device=None, early_stopping_rounds=None,\n",
            "             enable_categorical=False, eval_metric=None, feature_types=None,\n",
            "             gamma=None, grow_policy=None, importance_type=None,\n",
            "             interaction_constraints=None, learning_rate=None, max_bin=None,\n",
            "             max_cat_threshold=None, max_cat_to_onehot=None,\n",
            "             max_delta_step=None, max_depth=None, max_leaves=None,\n",
            "             min_child_weight=None, missing=nan, monotone_constraints=None,\n",
            "             multi_strategy=None, n_estimators=None, n_jobs=None,\n",
            "             num_parallel_tree=None, random_state=None, ...), 0.8418554578764859)\n"
          ]
        }
      ]
    },
    {
      "cell_type": "code",
      "source": [
        "learning_rate = best_params['xgb__learning_rate']\n",
        "max_depth = best_params['xgb__max_depth']\n",
        "n_estimators = best_params['xgb__n_estimators']\n",
        "model = train_fit_model(x, y, learning_rate, max_depth, n_estimators)\n",
        "# model = train_fit_model(x, y, 0.3, 10, 100) # test"
      ],
      "metadata": {
        "id": "AyjkKLSUIeRn"
      },
      "execution_count": 15,
      "outputs": []
    },
    {
      "cell_type": "code",
      "source": [
        "predictions = create_predictions(model, x_test)\n",
        "mae, mse, r2 = get_metrics(y_test, predictions)"
      ],
      "metadata": {
        "colab": {
          "base_uri": "https://localhost:8080/"
        },
        "id": "DO2Mb1mdIf6d",
        "outputId": "f8d0f44d-e94b-4624-9b0c-64a0bc5d2dc0"
      },
      "execution_count": 16,
      "outputs": [
        {
          "output_type": "stream",
          "name": "stdout",
          "text": [
            "Mean Absolute Error Score: 1569.5000439999708\n",
            "Mean Squared Error Score: 8299501.813832562\n",
            "R-Squared Score: 0.9465406150852972\n"
          ]
        }
      ]
    },
    {
      "cell_type": "code",
      "source": [
        "patient_data['expenses'].describe()"
      ],
      "metadata": {
        "colab": {
          "base_uri": "https://localhost:8080/"
        },
        "id": "5YycQFDIBvIF",
        "outputId": "06747f68-935c-4aa5-ed1c-45901641a4b5"
      },
      "execution_count": 17,
      "outputs": [
        {
          "output_type": "execute_result",
          "data": {
            "text/plain": [
              "count     1338.000000\n",
              "mean     13270.422414\n",
              "std      12110.011240\n",
              "min       1121.870000\n",
              "25%       4740.287500\n",
              "50%       9382.030000\n",
              "75%      16639.915000\n",
              "max      63770.430000\n",
              "Name: expenses, dtype: float64"
            ]
          },
          "metadata": {},
          "execution_count": 17
        }
      ]
    },
    {
      "cell_type": "markdown",
      "source": [
        "Given the metrics above, we can see our model is performing relatively well. Our estimates for expenses tend to be off on average by about $1,500.\n",
        "\n",
        "This is good considering that we're dealing with a mean cost of about $13,000, which is good considering that we're dealing with minimums of ~1,000 and maximums of ~64,000.\n",
        "\n",
        "We can also see in the below scatterplot a visual of how our regressor performs. Our predicted values fit well with the true values.\n",
        "\n",
        "We want to be careful not to overfit, as an r^2 score too close to 1 would indicate. But we can see that isn't the case here with our predicted vs true values between the true values of 2,000 to 4,000. These values were harder to predict, but overall still fits the relationship trend."
      ],
      "metadata": {
        "id": "mWHOLaymAloP"
      }
    },
    {
      "cell_type": "code",
      "source": [
        "plt.figure(figsize=(10, 5))\n",
        "plt.scatter(y_test, predictions)\n",
        "plt.plot([y_test.min(), y_test.max()], [y_test.min(), y_test.max()], color='red', linewidth=2)\n",
        "plt.xlabel('True Expense')\n",
        "plt.ylabel('Predicted Expense')\n",
        "plt.title('True vs Predicted Expense')\n",
        "plt.show()"
      ],
      "metadata": {
        "colab": {
          "base_uri": "https://localhost:8080/",
          "height": 487
        },
        "id": "g5KWdogKsO4y",
        "outputId": "683fda14-8e5f-4744-b307-845f3c01d209"
      },
      "execution_count": 18,
      "outputs": [
        {
          "output_type": "display_data",
          "data": {
            "text/plain": [
              "<Figure size 1000x500 with 1 Axes>"
            ],
            "image/png": "[encoded data removed]"
          },
          "metadata": {}
        }
      ]
    },
    {
      "cell_type": "markdown",
      "source": [
        "Another performance metric we can use to visualize how well our model does is a distribution of residuals plot. We can see that most of our residuals group up around 0, which is good, because it means that the difference between our predicted and true values is small. However, we would not want them to all be at 0, because that would indicate overfitting, which we see here isn't the case."
      ],
      "metadata": {
        "id": "i135hXaoELgq"
      }
    },
    {
      "cell_type": "code",
      "source": [
        "residuals = y_test - predictions\n",
        "\n",
        "plt.figure(figsize=(10, 5))\n",
        "plt.hist(residuals, bins=20)\n",
        "plt.xlabel('Residual')\n",
        "plt.ylabel('Frequency')\n",
        "plt.title('Distribution of Residuals')\n",
        "plt.show()"
      ],
      "metadata": {
        "colab": {
          "base_uri": "https://localhost:8080/",
          "height": 487
        },
        "id": "b08RtpcB1kJQ",
        "outputId": "ea7ff28b-6cee-481f-c985-7f55c53c37a6"
      },
      "execution_count": 19,
      "outputs": [
        {
          "output_type": "display_data",
          "data": {
            "text/plain": [
              "<Figure size 1000x500 with 1 Axes>"
            ],
            "image/png": "[encoded data removed]"
          },
          "metadata": {}
        }
      ]
    },
    {
      "cell_type": "markdown",
      "source": [
        "So what lead to the high accuracy of the model? We can see from analyzing the feature importances, that smoking is a very important indicator.\n",
        "\n",
        "This may seem obvious already. You can ask most people if patient cost correlates with smoking, and most will likely say it does. But can they say by how much?\n",
        "\n",
        "With our model, we can predict with a degree of precision what those higher and lower expenses will look like for smokers and non-smokers. From a business perspective, we can use these numbers to confirm our intution and prepare financially for patient cost with confidence."
      ],
      "metadata": {
        "id": "TBjJwsdzGATh"
      }
    },
    {
      "cell_type": "code",
      "source": [
        "importances = model.feature_importances_\n",
        "\n",
        "feature_names = x_train.columns\n",
        "\n",
        "for i, (importance, feature_name) in enumerate(zip(importances, feature_names), 1):\n",
        "    print(f\"Feature {i}: {feature_name}, Importance: {importance:.4f}\")\n",
        "\n",
        "plt.figure(figsize=(10, 6))\n",
        "plt.barh(feature_names, importances)\n",
        "plt.xlabel('Feature Importance')\n",
        "plt.ylabel('Feature')\n",
        "plt.title('XGBoost Regressor Feature Importances')\n",
        "plt.show()"
      ],
      "metadata": {
        "colab": {
          "base_uri": "https://localhost:8080/",
          "height": 755
        },
        "id": "EncD_ad1r5d4",
        "outputId": "8b8c0ea0-fa79-4838-ccb8-7d6fa152ffce"
      },
      "execution_count": 20,
      "outputs": [
        {
          "output_type": "stream",
          "name": "stdout",
          "text": [
            "Feature 1: age, Importance: 0.0101\n",
            "Feature 2: bmi, Importance: 0.0144\n",
            "Feature 3: children, Importance: 0.0031\n",
            "Feature 4: sex_female, Importance: 0.0015\n",
            "Feature 5: sex_male, Importance: 0.0000\n",
            "Feature 6: smoker_no, Importance: 0.9598\n",
            "Feature 7: smoker_yes, Importance: 0.0000\n",
            "Feature 8: region_northeast, Importance: 0.0030\n",
            "Feature 9: region_northwest, Importance: 0.0048\n",
            "Feature 10: region_southeast, Importance: 0.0015\n",
            "Feature 11: region_southwest, Importance: 0.0018\n"
          ]
        },
        {
          "output_type": "display_data",
          "data": {
            "text/plain": [
              "<Figure size 1000x600 with 1 Axes>"
            ],
            "image/png": "[encoded data removed]"
          },
          "metadata": {}
        }
      ]
    },
    {
      "cell_type": "markdown",
      "source": [
        "To wrap up, let's save our data for retrieval use in production."
      ],
      "metadata": {
        "id": "dvuc_U5aDhVA"
      }
    },
    {
      "cell_type": "code",
      "source": [
        "save_model(model)"
      ],
      "metadata": {
        "colab": {
          "base_uri": "https://localhost:8080/"
        },
        "id": "GGe_C16fDguR",
        "outputId": "74cf3ca4-43f9-4ee8-f8bf-018d76da116c"
      },
      "execution_count": 21,
      "outputs": [
        {
          "output_type": "stream",
          "name": "stdout",
          "text": [
            "Model saved successfully.\n"
          ]
        }
      ]
    }
  ],
  "metadata": {
    "colab": {
      "provenance": []
    },
    "kernelspec": {
      "display_name": "Python 3",
      "name": "python3"
    }
  },
  "nbformat": 4,
  "nbformat_minor": 0
}